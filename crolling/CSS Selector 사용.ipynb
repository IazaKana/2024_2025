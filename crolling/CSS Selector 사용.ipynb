{
 "cells": [
  {
   "cell_type": "code",
   "execution_count": 1,
   "id": "bcae3812",
   "metadata": {},
   "outputs": [],
   "source": [
    "import requests\n",
    "from bs4 import BeautifulSoup"
   ]
  },
  {
   "cell_type": "code",
   "execution_count": 7,
   "id": "953d72bd",
   "metadata": {},
   "outputs": [],
   "source": [
    "res = requests.get('https://davelee-fun.github.io/blog/crawl_test_css.html')\n",
    "soup = BeautifulSoup(res.content, 'html.parser')\n",
    "items = soup.select('h3')\n",
    "# items = soup.select('ul li') -> 하위태그 지정\n",
    "# items = soup.select('ul > li') -> 바로 아래 태그인 경우\n",
    "# items = soup.select('.course') -> class 이름으로 검색\n",
    "# items = soup.select('#start') -> id 이름으로 검색"
   ]
  },
  {
   "cell_type": "code",
   "execution_count": 6,
   "id": "557dff71",
   "metadata": {},
   "outputs": [
    {
     "name": "stdout",
     "output_type": "stream",
     "text": [
      "나만의 엣지있는 블로그 사이트 만들기 (취미로 익히는 IT)\n",
      "파이썬과 데이터과학 첫걸음 (IT 기본기 익히기)\n"
     ]
    }
   ],
   "source": [
    "for item in items:\n",
    "    print (item.get_text())"
   ]
  },
  {
   "cell_type": "code",
   "execution_count": 9,
   "id": "7b1093e2",
   "metadata": {},
   "outputs": [
    {
     "name": "stdout",
     "output_type": "stream",
     "text": [
      "(중급) - 자동으로 쿠팡파트너스 API 로 가져온 상품 정보, 네이버 블로그/트위터에 홍보하기 [412]\n"
     ]
    }
   ],
   "source": [
    "res = requests.get('https://davelee-fun.github.io/blog/crawl_test_css.html')\n",
    "soup = BeautifulSoup(res.content,\n",
    "'html.parser')\n",
    "item = soup.select_one('ul#dev_course_list > li.course.paid')\n",
    "print (item.get_text())"
   ]
  },
  {
   "cell_type": "code",
   "execution_count": null,
   "id": "10b3fa17",
   "metadata": {},
   "outputs": [],
   "source": []
  }
 ],
 "metadata": {
  "kernelspec": {
   "display_name": "Python 3 (ipykernel)",
   "language": "python",
   "name": "python3"
  },
  "language_info": {
   "codemirror_mode": {
    "name": "ipython",
    "version": 3
   },
   "file_extension": ".py",
   "mimetype": "text/x-python",
   "name": "python",
   "nbconvert_exporter": "python",
   "pygments_lexer": "ipython3",
   "version": "3.11.5"
  }
 },
 "nbformat": 4,
 "nbformat_minor": 5
}
